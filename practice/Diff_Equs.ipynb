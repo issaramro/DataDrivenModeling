{
 "cells": [
  {
   "cell_type": "code",
   "execution_count": 2,
   "metadata": {},
   "outputs": [],
   "source": [
    "import numpy as np\n",
    "import matplotlib.pyplot as plt\n",
    "import scipy\n",
    "from scipy.integrate import odeint"
   ]
  },
  {
   "cell_type": "code",
   "execution_count": 3,
   "metadata": {},
   "outputs": [],
   "source": [
    "#  Bessel Equation\n",
    "\n",
    "def Bessel(x, y, dy, d2y, alpha):\n",
    "    return x**2 * d2y + x*dy + (x**2 - alpha**2)*y\n",
    "\n",
    "def Bessel1(X, x, alpha):\n",
    "    A = [[0, 1], [(alpha**2 - x**2)/x**2, - 1/x]]\n",
    "    return A@X\n",
    "\n",
    "alpha = 2\n",
    "X0 = [1,0]\n",
    "x = np.arange(100, 0.01)\n",
    "# sol = odeint(Bessel1, X0, x, args = (alpha))\n",
    "# print(sol)"
   ]
  }
 ],
 "metadata": {
  "kernelspec": {
   "display_name": "Python 3",
   "language": "python",
   "name": "python3"
  },
  "language_info": {
   "codemirror_mode": {
    "name": "ipython",
    "version": 3
   },
   "file_extension": ".py",
   "mimetype": "text/x-python",
   "name": "python",
   "nbconvert_exporter": "python",
   "pygments_lexer": "ipython3",
   "version": "3.11.3"
  }
 },
 "nbformat": 4,
 "nbformat_minor": 2
}
